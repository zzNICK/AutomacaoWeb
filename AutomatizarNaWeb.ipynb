{
 "cells": [
  {
   "cell_type": "markdown",
   "metadata": {},
   "source": [
    "# AUTOMAÇÃO WEB / BUSCANDO INFORMAÇÕES EM PYTHON\n"
   ]
  },
  {
   "cell_type": "code",
   "execution_count": 11,
   "metadata": {
    "scrolled": true
   },
   "outputs": [
    {
     "name": "stdout",
     "output_type": "stream",
     "text": [
      "5.2409\n",
      "6.1469939600000005\n",
      "295.18\n"
     ]
    }
   ],
   "source": [
    "from selenium import webdriver \n",
    "from selenium.webdriver.common.keys import Keys \n",
    "\n",
    "# para rodar o chrome em 2º plano\n",
    "# from selenium.webdriver.chrome.options import Options\n",
    "# chrome_options = Options()\n",
    "# chrome_options.headless = True \n",
    "# navegador = webdriver.Chrome(options=chrome_options)\n",
    "\n",
    "# abrir um navegador \n",
    "navegador = webdriver.Chrome() \n",
    "navegador.get(\"https://www.google.com/\")\n",
    "\n",
    "# 1 - Pegar a cotação do Dólar\n",
    "navegador.find_element_by_xpath(\n",
    "    '/html/body/div[1]/div[3]/form/div[1]/div[1]/div[1]/div/div[2]/input').send_keys(\"cotação do dolar\")\n",
    "navegador.find_element_by_xpath(\n",
    "    '/html/body/div[1]/div[3]/form/div[1]/div[1]/div[1]/div/div[2]/input').send_keys(Keys.ENTER)\n",
    "cotacaoDolar = navegador.find_element_by_xpath(\n",
    "    '//*[@id=\"knowledge-currency__updatable-data-column\"]/div[1]/div[2]/span[1]').get_attribute(\"data-value\")\n",
    "print(cotacaoDolar)\n",
    "\n",
    "# 2 - Pegar a cotação do Euro \n",
    "navegador.get(\"https://www.google.com/\")\n",
    "navegador.find_element_by_xpath(\n",
    "    '/html/body/div[1]/div[3]/form/div[1]/div[1]/div[1]/div/div[2]/input').send_keys(\"cotação euro\")\n",
    "navegador.find_element_by_xpath(\n",
    "    '/html/body/div[1]/div[3]/form/div[1]/div[1]/div[1]/div/div[2]/input').send_keys(Keys.ENTER)\n",
    "cotacao_euro = navegador.find_element_by_xpath(\n",
    "    '//*[@id=\"knowledge-currency__updatable-data-column\"]/div[1]/div[2]/span[1]').get_attribute(\"data-value\")\n",
    "print(cotacao_euro)\n",
    "\n",
    "# 3 - Pegar a cotação do Ouro \n",
    "navegador.get(\"https://www.melhorcambio.com/ouro-hoje\")\n",
    "cotacao_ouro = navegador.find_element_by_xpath('//*[@id=\"comercial\"]').get_attribute(\"value\")\n",
    "cotacao_ouro = cotacao_ouro.replace(\",\", \".\")      #replace para trocar , por .\n",
    "print(cotacao_ouro)\n",
    "\n",
    "navegador.quit()"
   ]
  },
  {
   "cell_type": "code",
   "execution_count": null,
   "metadata": {
    "scrolled": true
   },
   "outputs": [],
   "source": [
    "# 4 - Importar a lista de produtos"
   ]
  },
  {
   "cell_type": "code",
   "execution_count": null,
   "metadata": {},
   "outputs": [],
   "source": [
    "# 5 - Recalcular o preço de cada produto\n",
    "#     atualizar a cotação\n",
    "#     nas linhas onde na coluna \"Moeda\" = Dólar"
   ]
  },
  {
   "cell_type": "code",
   "execution_count": null,
   "metadata": {},
   "outputs": [],
   "source": [
    "# 6 - Salvar os novos preços dos produtos"
   ]
  }
 ],
 "metadata": {
  "kernelspec": {
   "display_name": "Python 3 (ipykernel)",
   "language": "python",
   "name": "python3"
  },
  "language_info": {
   "codemirror_mode": {
    "name": "ipython",
    "version": 3
   },
   "file_extension": ".py",
   "mimetype": "text/x-python",
   "name": "python",
   "nbconvert_exporter": "python",
   "pygments_lexer": "ipython3",
   "version": "3.8.5"
  }
 },
 "nbformat": 4,
 "nbformat_minor": 4
}
